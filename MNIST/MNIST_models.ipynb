{
 "cells": [
  {
   "cell_type": "code",
   "execution_count": 93,
   "metadata": {},
   "outputs": [],
   "source": [
    "import numpy as np\n",
    "import tensorflow as tf\n",
    "import pandas as pd\n",
    "import matplotlib.pyplot as plt\n",
    "%matplotlib inline\n",
    "\n",
    "from sklearn.model_selection import train_test_split\n",
    "from sklearn.preprocessing import OneHotEncoder\n",
    "from tensorflow import keras\n",
    "from tensorflow.keras.preprocessing.image import ImageDataGenerator"
   ]
  },
  {
   "cell_type": "code",
   "execution_count": 19,
   "metadata": {},
   "outputs": [],
   "source": [
    "train_data = np.loadtxt(open(\"./all/train.csv\", \"rb\"), delimiter=\",\", skiprows=1)\n",
    "test_data = np.loadtxt(open(\"./all/test.csv\", \"rb\"), delimiter=\",\", skiprows=1)"
   ]
  },
  {
   "cell_type": "code",
   "execution_count": 13,
   "metadata": {},
   "outputs": [],
   "source": [
    "y_train = (train_data[:,0]).reshape((42000, 1))\n",
    "x_train = (train_data[:,1:]).reshape((42000,28,28))"
   ]
  },
  {
   "cell_type": "code",
   "execution_count": 20,
   "metadata": {},
   "outputs": [],
   "source": [
    "x_train = x_train / 255.0"
   ]
  },
  {
   "cell_type": "code",
   "execution_count": 22,
   "metadata": {},
   "outputs": [],
   "source": [
    "model = keras.Sequential([\n",
    "    keras.layers.Flatten(input_shape=(28, 28)),\n",
    "    keras.layers.Dense(128, activation=tf.nn.relu),\n",
    "    keras.layers.Dense(10, activation=tf.nn.softmax)\n",
    "])"
   ]
  },
  {
   "cell_type": "code",
   "execution_count": 23,
   "metadata": {},
   "outputs": [],
   "source": [
    "model.compile(optimizer=tf.train.AdamOptimizer(),\n",
    "              loss='sparse_categorical_crossentropy',\n",
    "              metrics=['accuracy'])"
   ]
  },
  {
   "cell_type": "code",
   "execution_count": 24,
   "metadata": {},
   "outputs": [
    {
     "name": "stdout",
     "output_type": "stream",
     "text": [
      "Epoch 1/5\n",
      "42000/42000 [==============================] - 4s 104us/step - loss: 0.2965 - acc: 0.9147\n",
      "Epoch 2/5\n",
      "42000/42000 [==============================] - 2s 47us/step - loss: 0.1318 - acc: 0.9614\n",
      "Epoch 3/5\n",
      "42000/42000 [==============================] - 2s 46us/step - loss: 0.0895 - acc: 0.9721\n",
      "Epoch 4/5\n",
      "42000/42000 [==============================] - 2s 46us/step - loss: 0.0677 - acc: 0.9794\n",
      "Epoch 5/5\n",
      "42000/42000 [==============================] - 2s 47us/step - loss: 0.0523 - acc: 0.9840\n"
     ]
    },
    {
     "data": {
      "text/plain": [
       "<tensorflow.python.keras.callbacks.History at 0x27fe0081c18>"
      ]
     },
     "execution_count": 24,
     "metadata": {},
     "output_type": "execute_result"
    }
   ],
   "source": [
    "model.fit(x_train, y_train, epochs=5)"
   ]
  },
  {
   "cell_type": "code",
   "execution_count": 26,
   "metadata": {},
   "outputs": [],
   "source": [
    "x_test = test_data.reshape((28000,28,28))"
   ]
  },
  {
   "cell_type": "code",
   "execution_count": 30,
   "metadata": {},
   "outputs": [],
   "source": [
    "y_test = model.predict_classes(x_test)"
   ]
  },
  {
   "cell_type": "code",
   "execution_count": 32,
   "metadata": {},
   "outputs": [
    {
     "data": {
      "text/plain": [
       "array([2, 0, 9, ..., 3, 9, 2], dtype=int64)"
      ]
     },
     "execution_count": 32,
     "metadata": {},
     "output_type": "execute_result"
    }
   ],
   "source": [
    "y_test"
   ]
  },
  {
   "cell_type": "code",
   "execution_count": 34,
   "metadata": {},
   "outputs": [],
   "source": [
    "with open(\"./nn_submission.csv\", \"w+\") as f:\n",
    "    f.write(\"ImageId,Label\\n\")\n",
    "    for i, label in enumerate(y_test):\n",
    "        f.write(\"%s,%s\\n\" % (i+1, label))"
   ]
  },
  {
   "cell_type": "code",
   "execution_count": 69,
   "metadata": {},
   "outputs": [],
   "source": [
    "datagen = ImageDataGenerator(\n",
    "        rotation_range=10,  \n",
    "        zoom_range = 0.10,  \n",
    "        width_shift_range=0.1, \n",
    "        height_shift_range=0.1)"
   ]
  },
  {
   "cell_type": "code",
   "execution_count": 124,
   "metadata": {
    "scrolled": true
   },
   "outputs": [],
   "source": [
    "x_train_cnn = x_train.reshape((42000, 28,28,1))\n",
    "nets = []\n",
    "cnn_model = keras.Sequential([\n",
    "    keras.layers.Conv2D(32, 3, activation='relu', input_shape=(28, 28, 1)),\n",
    "    keras.layers.Conv2D(32, 3, activation='relu'),\n",
    "    keras.layers.Conv2D(32, 5, strides=2, padding='same', activation='relu'),\n",
    "\n",
    "    keras.layers.Conv2D(64, 3, activation='relu'),\n",
    "    keras.layers.Conv2D(64, 3, activation='relu'),\n",
    "    keras.layers.Conv2D(64, 5, strides=2, padding='same', activation='relu'),\n",
    "    keras.layers.Dropout(0.4),\n",
    "\n",
    "    keras.layers.Flatten(),\n",
    "    keras.layers.Dense(128, activation='relu'),\n",
    "    keras.layers.Dropout(0.4),\n",
    "    keras.layers.Dense(10, activation=tf.nn.softmax)\n",
    "])\n",
    "cnn_model.compile(optimizer=tf.train.AdamOptimizer(),\n",
    "              loss='categorical_crossentropy',\n",
    "              metrics=['accuracy'])"
   ]
  },
  {
   "cell_type": "code",
   "execution_count": null,
   "metadata": {
    "scrolled": true
   },
   "outputs": [
    {
     "name": "stdout",
     "output_type": "stream",
     "text": [
      "Epoch 1/20\n",
      "657/657 [==============================] - 8s 13ms/step - loss: 0.2861 - acc: 0.9143: 1s - \n",
      "Epoch 2/20\n",
      "657/657 [==============================] - 8s 12ms/step - loss: 0.1267 - acc: 0.9636\n",
      "Epoch 3/20\n",
      "657/657 [==============================] - 8s 13ms/step - loss: 0.0950 - acc: 0.9728\n",
      "Epoch 4/20\n",
      "657/657 [==============================] - 8s 12ms/step - loss: 0.0760 - acc: 0.9783\n",
      "Epoch 5/20\n",
      "657/657 [==============================] - 8s 12ms/step - loss: 0.0686 - acc: 0.9805\n",
      "Epoch 6/20\n",
      "657/657 [==============================] - 8s 12ms/step - loss: 0.0575 - acc: 0.9835\n",
      "Epoch 7/20\n",
      "657/657 [==============================] - 8s 12ms/step - loss: 0.0563 - acc: 0.9837\n",
      "Epoch 8/20\n",
      "657/657 [==============================] - 8s 12ms/step - loss: 0.0545 - acc: 0.9841\n",
      "Epoch 9/20\n",
      "657/657 [==============================] - 8s 12ms/step - loss: 0.0482 - acc: 0.9867\n",
      "Epoch 10/20\n",
      "657/657 [==============================] - 8s 12ms/step - loss: 0.0491 - acc: 0.9865\n",
      "Epoch 11/20\n",
      "657/657 [==============================] - 8s 12ms/step - loss: 0.0422 - acc: 0.9878: 1s - \n",
      "Epoch 12/20\n",
      "657/657 [==============================] - 8s 12ms/step - loss: 0.0392 - acc: 0.9893: 1s - los\n",
      "Epoch 13/20\n",
      "657/657 [==============================] - 8s 13ms/step - loss: 0.0411 - acc: 0.9883\n",
      "Epoch 14/20\n",
      "634/657 [===========================>..] - ETA: 0s - loss: 0.0410 - acc: 0.9884"
     ]
    }
   ],
   "source": [
    "y_train_cnn = keras.utils.to_categorical(y_train, num_classes=10)\n",
    "cnn_model.fit_generator(datagen.flow(x_train_cnn, y_train_cnn, batch_size=64), epochs = 20)"
   ]
  },
  {
   "cell_type": "code",
   "execution_count": 121,
   "metadata": {},
   "outputs": [],
   "source": [
    "x_test_cnn = x_test.reshape((28000, 28, 28, 1))\n",
    "y_test_cnn = cnn_model.predict_classes(x_test_cnn)"
   ]
  },
  {
   "cell_type": "code",
   "execution_count": 122,
   "metadata": {},
   "outputs": [
    {
     "data": {
      "text/plain": [
       "False"
      ]
     },
     "execution_count": 122,
     "metadata": {},
     "output_type": "execute_result"
    }
   ],
   "source": [
    "all(y_test_cnn == y_test)"
   ]
  },
  {
   "cell_type": "code",
   "execution_count": 123,
   "metadata": {},
   "outputs": [],
   "source": [
    "with open(\"./cnn_submission.csv\", \"w+\") as f:\n",
    "    f.write(\"ImageId,Label\\n\")\n",
    "    for i, label in enumerate(y_test_cnn):\n",
    "        f.write(\"%s,%s\\n\" % (i+1, label))"
   ]
  },
  {
   "cell_type": "code",
   "execution_count": null,
   "metadata": {},
   "outputs": [],
   "source": []
  }
 ],
 "metadata": {
  "kernelspec": {
   "display_name": "Python 3",
   "language": "python",
   "name": "python3"
  },
  "language_info": {
   "codemirror_mode": {
    "name": "ipython",
    "version": 3
   },
   "file_extension": ".py",
   "mimetype": "text/x-python",
   "name": "python",
   "nbconvert_exporter": "python",
   "pygments_lexer": "ipython3",
   "version": "3.6.7"
  }
 },
 "nbformat": 4,
 "nbformat_minor": 2
}
